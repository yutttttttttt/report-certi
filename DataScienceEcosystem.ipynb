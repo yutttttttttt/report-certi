{
 "cells": [
  {
   "cell_type": "markdown",
   "id": "5a8fdf1e-d888-48ec-b17e-6d2f0fd4e04e",
   "metadata": {},
   "source": [
    "# Data Science Tools and Ecosystem"
   ]
  },
  {
   "cell_type": "markdown",
   "id": "6db2047c-cf7c-4845-9d72-4b54f8b1b7c0",
   "metadata": {},
   "source": [
    "In this notebook, Data Science Tools and Ecosystem are summarized."
   ]
  },
  {
   "cell_type": "markdown",
   "id": "074dc9f1-af48-4d65-91e7-3c6e5a9979cf",
   "metadata": {},
   "source": [
    "**Objectives:**\n",
    "* Python\n",
    "* R language\n",
    "* SQL"
   ]
  },
  {
   "cell_type": "markdown",
   "id": "ed548adb-577a-4d1a-81d9-02ab78f8e7b7",
   "metadata": {},
   "source": [
    "Some of the popular languages that Data Scientists use are:\n",
    "1. Python\n",
    "2. R\n",
    "3. SQL"
   ]
  },
  {
   "cell_type": "markdown",
   "id": "7d1c05b9-822c-4f8a-a0c7-7041d406b00e",
   "metadata": {},
   "source": [
    "Some of the commonly used libraries used by Data Scientists include:\n",
    "1. pandas\n",
    "2. matplotlib\n",
    "3. numpy"
   ]
  },
  {
   "cell_type": "markdown",
   "id": "2449ab22-6991-450f-8f0a-0615cfa09ee4",
   "metadata": {},
   "source": [
    "| Data Science Tools |\n",
    "| -------------------|\n",
    "| Jupter             |\n",
    "| PyCharm            |\n",
    "| VS Code            |"
   ]
  },
  {
   "cell_type": "markdown",
   "id": "b22237a5-9cf5-4430-847a-b9b9886d77b2",
   "metadata": {},
   "source": [
    "### Below are a few examples of evaluating arithmetic expressions in Python"
   ]
  },
  {
   "cell_type": "code",
   "execution_count": 2,
   "id": "c08775be-35e2-4c11-9f8a-4694cf9db088",
   "metadata": {},
   "outputs": [
    {
     "data": {
      "text/plain": [
       "17"
      ]
     },
     "execution_count": 2,
     "metadata": {},
     "output_type": "execute_result"
    }
   ],
   "source": [
    "#This a simple arithmetic expression to mutiply then add integers\n",
    "(3*4)+5"
   ]
  },
  {
   "cell_type": "code",
   "execution_count": 3,
   "id": "6e1160c5-6c3b-473f-a835-c934f26cba1f",
   "metadata": {},
   "outputs": [
    {
     "data": {
      "text/plain": [
       "3.3333333333333335"
      ]
     },
     "execution_count": 3,
     "metadata": {},
     "output_type": "execute_result"
    }
   ],
   "source": [
    "# This will convert 200 minutes to hours by diving by 60\n",
    "200/60"
   ]
  },
  {
   "cell_type": "markdown",
   "id": "f1658829-f45e-46ca-8bc6-af37368faeca",
   "metadata": {},
   "source": [
    "## Author\n",
    "Yuting Zhou"
   ]
  }
 ],
 "metadata": {
  "kernelspec": {
   "display_name": "Python 3 (ipykernel)",
   "language": "python",
   "name": "python3"
  },
  "language_info": {
   "codemirror_mode": {
    "name": "ipython",
    "version": 3
   },
   "file_extension": ".py",
   "mimetype": "text/x-python",
   "name": "python",
   "nbconvert_exporter": "python",
   "pygments_lexer": "ipython3",
   "version": "3.11.7"
  }
 },
 "nbformat": 4,
 "nbformat_minor": 5
}
